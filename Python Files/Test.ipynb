{
 "cells": [
  {
   "cell_type": "code",
   "execution_count": 5,
   "metadata": {},
   "outputs": [
    {
     "data": {
      "text/html": [
       "\n",
       "        <iframe\n",
       "            width=\"100%\"\n",
       "            height=\"600\"\n",
       "            src=\"http://localhost:50288\"\n",
       "            frameborder=\"0\"\n",
       "            allowfullscreen\n",
       "            \n",
       "        ></iframe>\n",
       "        "
      ],
      "text/plain": [
       "<IPython.lib.display.IFrame at 0x195dab16910>"
      ]
     },
     "execution_count": 5,
     "metadata": {},
     "output_type": "execute_result"
    },
    {
     "name": "stderr",
     "output_type": "stream",
     "text": [
      "127.0.0.1 - - [17/Jun/2024 18:02:56] \"GET / HTTP/1.1\" 200 -\n"
     ]
    }
   ],
   "source": [
    "import lightningchart as lc\n",
    "import pandas as pd\n",
    "import numpy as np\n",
    "import matplotlib.pyplot as plt\n",
    "\n",
    "# Read the license key from a file\n",
    "with open('D:/Computer Aplication/WorkPlacement/Projects/shared_variable.txt', 'r') as f:\n",
    "    mylicensekey = f.read().strip()\n",
    "lc.set_license(mylicensekey)\n",
    "\n",
    "# Load the CSV file\n",
    "file_path = 'D:/wenprograming23/src/team6/Marine-Seismic-Data-Time-Series-Analysis-with-LightningChart-Python/Data/output.csv'\n",
    "df = pd.read_csv(file_path)\n",
    "\n",
    "# Convert sample number to time (assuming the sample interval is in microseconds)\n",
    "df['time_ms'] = df['sample_number'] * df['sample_interval_in_ms_for_this_trace'] / 1000.0\n",
    "\n",
    "# Create a Dashboard\n",
    "dashboard = lc.Dashboard(\n",
    "    rows=3,\n",
    "    columns=3,\n",
    "    theme=lc.Themes.Dark\n",
    ")\n",
    "\n",
    "# Plotting the first nine traces separately\n",
    "unique_traces = df['trace_sequence_number_within_line'].unique()\n",
    "for idx, trace in enumerate(unique_traces[:9]):  # Plot first 9 traces\n",
    "    trace_data = df[df['trace_sequence_number_within_line'] == trace]\n",
    "    chart = dashboard.ChartXY(\n",
    "        column_index=idx % 3,\n",
    "        row_index=idx // 3,\n",
    "        row_span=1,\n",
    "        column_span=1\n",
    "    )\n",
    "    chart.set_title(f'Trace {trace}')\n",
    "    series = chart.add_line_series()\n",
    "    series.add(trace_data['time_ms'].tolist(), trace_data['trace_value'].tolist())\n",
    "    series.set_name(f'Trace {trace}')\n",
    "\n",
    "    # Set axis labels\n",
    "    chart.get_default_x_axis().set_title('Time (ms)')\n",
    "    chart.get_default_y_axis().set_title('Amplitude')\n",
    "\n",
    "# Open the dashboard\n",
    "dashboard.open()"
   ]
  },
  {
   "cell_type": "code",
   "execution_count": 24,
   "metadata": {},
   "outputs": [
    {
     "data": {
      "text/html": [
       "\n",
       "        <iframe\n",
       "            width=\"100%\"\n",
       "            height=\"600\"\n",
       "            src=\"http://localhost:55638\"\n",
       "            frameborder=\"0\"\n",
       "            allowfullscreen\n",
       "            \n",
       "        ></iframe>\n",
       "        "
      ],
      "text/plain": [
       "<IPython.lib.display.IFrame at 0x19773d33b90>"
      ]
     },
     "execution_count": 24,
     "metadata": {},
     "output_type": "execute_result"
    },
    {
     "name": "stderr",
     "output_type": "stream",
     "text": [
      "127.0.0.1 - - [17/Jun/2024 20:36:19] \"GET / HTTP/1.1\" 200 -\n"
     ]
    }
   ],
   "source": [
    "import lightningchart as lc\n",
    "import pandas as pd\n",
    "import numpy as np\n",
    "\n",
    "# Read the license key from a file\n",
    "with open('D:/Computer Aplication/WorkPlacement/Projects/shared_variable.txt', 'r') as f:\n",
    "    mylicensekey = f.read().strip()\n",
    "lc.set_license(mylicensekey)\n",
    "\n",
    "# Load the CSV file\n",
    "file_path = 'D:/wenprograming23/src/team6/Marine-Seismic-Data-Time-Series-Analysis-with-LightningChart-Python/Data/output.csv'\n",
    "df = pd.read_csv(file_path)\n",
    "\n",
    "# Convert sample number to time (assuming the sample interval is in microseconds)\n",
    "df['time_ms'] = df['sample_number'] * df['sample_interval_in_ms_for_this_trace'] / 1000.0\n",
    "\n",
    "# Prepare data for line chart\n",
    "unique_traces = df['trace_sequence_number_within_line'].unique()\n",
    "\n",
    "# Create a Line Chart\n",
    "chart = lc.ChartXY(\n",
    "    theme=lc.Themes.Dark,\n",
    "    title='Line Chart of Seismic Data (First 9 Traces)'\n",
    ")\n",
    "\n",
    "# Plotting the first 9 traces\n",
    "for trace in unique_traces[:9]:\n",
    "    trace_data = df[df['trace_sequence_number_within_line'] == trace]\n",
    "    series = chart.add_line_series()\n",
    "    series.add(trace_data['time_ms'].tolist(), trace_data['trace_value'].tolist())\n",
    "    series.set_name(f'Trace {trace}')\n",
    "\n",
    "chart.open()"
   ]
  },
  {
   "cell_type": "code",
   "execution_count": 35,
   "metadata": {},
   "outputs": [],
   "source": [
    "import lightningchart as lc\n",
    "import pandas as pd\n",
    "import numpy as np\n",
    "\n",
    "# Read the license key from a file\n",
    "with open('D:/Computer Aplication/WorkPlacement/Projects/shared_variable.txt', 'r') as f:\n",
    "    mylicensekey = f.read().strip()\n",
    "lc.set_license(mylicensekey)\n",
    "\n",
    "# Load the CSV file\n",
    "file_path = 'D:/wenprograming23/src/team6/Marine-Seismic-Data-Time-Series-Analysis-with-LightningChart-Python/Data/output.csv'\n",
    "df = pd.read_csv(file_path)\n",
    "\n",
    "# Calculate histogram data\n",
    "hist, bin_edges = np.histogram(df['trace_value'], bins=50)\n",
    "\n",
    "# Prepare data for the bar chart\n",
    "data = [{'category': f'{(bin_edges[i] + bin_edges[i + 1]) / 2:.2f}', 'value': int(hist[i])} for i in range(len(hist))]\n",
    "\n",
    "# Create a Bar Chart\n",
    "chart = lc.BarChart(\n",
    "    vertical=True,\n",
    "    theme=lc.Themes.Dark,\n",
    "    title='Distribution of amplitude values'\n",
    ")\n",
    "\n",
    "# Set the data for the bar chart\n",
    "chart.set_data(data)\n",
    "\n",
    "# Show the chart\n",
    "chart.open()\n",
    "\n",
    "# Add axis titles using text boxes\n",
    "x_axis_title = chart.add_textbox(text='Amplitude', x=50, y=95)\n",
    "y_axis_title = chart.add_textbox(text='Frequency', x=5, y=50)\n"
   ]
  },
  {
   "cell_type": "markdown",
   "metadata": {},
   "source": [
    "In the provided histogram, the x-values and y-values represent the following:\n",
    "\n",
    "X-values (Amplitude): These values represent the midpoints of the bins of the histogram. Each bin covers a range of trace values (amplitudes) from the seismic data, and the x-value is the midpoint of that range. For example, an x-value of -0.02 indicates the midpoint of a bin that includes trace values around -0.02.\n",
    "\n",
    "Y-values (Frequency): These values represent the number of occurrences (frequency) of trace values that fall within each bin's range. The height of each bar in the histogram corresponds to how many trace values are within that specific range. For instance, the first bin has a y-value of 30,731,895, indicating that there are 30,731,895 trace values within the range around the midpoint -0.02."
   ]
  },
  {
   "cell_type": "code",
   "execution_count": 37,
   "metadata": {},
   "outputs": [
    {
     "data": {
      "text/html": [
       "\n",
       "        <iframe\n",
       "            width=\"100%\"\n",
       "            height=\"600\"\n",
       "            src=\"http://localhost:53095\"\n",
       "            frameborder=\"0\"\n",
       "            allowfullscreen\n",
       "            \n",
       "        ></iframe>\n",
       "        "
      ],
      "text/plain": [
       "<IPython.lib.display.IFrame at 0x196881f0650>"
      ]
     },
     "execution_count": 37,
     "metadata": {},
     "output_type": "execute_result"
    },
    {
     "name": "stderr",
     "output_type": "stream",
     "text": [
      "127.0.0.1 - - [17/Jun/2024 21:15:51] \"GET / HTTP/1.1\" 200 -\n"
     ]
    }
   ],
   "source": [
    "import lightningchart as lc\n",
    "import pandas as pd\n",
    "\n",
    "# Read the license key from a file\n",
    "with open('D:/Computer Aplication/WorkPlacement/Projects/shared_variable.txt', 'r') as f:\n",
    "    mylicensekey = f.read().strip()\n",
    "lc.set_license(mylicensekey)\n",
    "\n",
    "# Load the CSV file\n",
    "file_path = 'D:/wenprograming23/src/team6/Marine-Seismic-Data-Time-Series-Analysis-with-LightningChart-Python/Data/output.csv'\n",
    "df = pd.read_csv(file_path)\n",
    "\n",
    "# Convert sample number to time (assuming the sample interval is in microseconds)\n",
    "df['time_ms'] = df['sample_number'] * df['sample_interval_in_ms_for_this_trace'] / 1000.0\n",
    "\n",
    "# Create a Scatter Plot\n",
    "chart = lc.ChartXY(\n",
    "    theme=lc.Themes.Dark,\n",
    "    title='Scatter Plot of Amplitude vs. Time'\n",
    ")\n",
    "\n",
    "# Add a Point Series for the scatter plot\n",
    "point_series = chart.add_point_series()\n",
    "\n",
    "# Set data for the point series\n",
    "point_series.add(df['time_ms'].values.tolist(), df['trace_value'].values.tolist())\n",
    "\n",
    "# Customize axis titles\n",
    "chart.get_default_x_axis().set_title('Time (ms)')\n",
    "chart.get_default_y_axis().set_title('Amplitude')\n",
    "\n",
    "# Show the chart\n",
    "chart.open()\n"
   ]
  }
 ],
 "metadata": {
  "kernelspec": {
   "display_name": "Python 3",
   "language": "python",
   "name": "python3"
  },
  "language_info": {
   "codemirror_mode": {
    "name": "ipython",
    "version": 3
   },
   "file_extension": ".py",
   "mimetype": "text/x-python",
   "name": "python",
   "nbconvert_exporter": "python",
   "pygments_lexer": "ipython3",
   "version": "3.11.4"
  }
 },
 "nbformat": 4,
 "nbformat_minor": 2
}

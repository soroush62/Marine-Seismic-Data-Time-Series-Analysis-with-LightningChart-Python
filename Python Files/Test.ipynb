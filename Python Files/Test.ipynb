{
 "cells": [
  {
   "cell_type": "code",
   "execution_count": 1,
   "metadata": {},
   "outputs": [
    {
     "data": {
      "text/html": [
       "\n",
       "        <iframe\n",
       "            width=\"100%\"\n",
       "            height=\"600\"\n",
       "            src=\"http://localhost:53601\"\n",
       "            frameborder=\"0\"\n",
       "            allowfullscreen\n",
       "            \n",
       "        ></iframe>\n",
       "        "
      ],
      "text/plain": [
       "<IPython.lib.display.IFrame at 0x187315b4c10>"
      ]
     },
     "execution_count": 1,
     "metadata": {},
     "output_type": "execute_result"
    }
   ],
   "source": [
    "import lightningchart as lc\n",
    "import pandas as pd\n",
    "import numpy as np\n",
    "import matplotlib.pyplot as plt\n",
    "\n",
    "# Read the license key from a file\n",
    "with open('D:/Computer Aplication/WorkPlacement/Projects/shared_variable.txt', 'r') as f:\n",
    "    mylicensekey = f.read().strip()\n",
    "lc.set_license(mylicensekey)\n",
    "\n",
    "# Load the CSV file\n",
    "file_path = 'D:/wenprograming23/src/team6/Marine-Seismic-Data-Time-Series-Analysis-with-LightningChart-Python/Data/output.csv'\n",
    "df = pd.read_csv(file_path)\n",
    "\n",
    "# Convert sample number to time (assuming the sample interval is in microseconds)\n",
    "df['time_ms'] = df['sample_number'] * df['sample_interval_in_ms_for_this_trace'] / 1000.0\n",
    "\n",
    "# Create a Dashboard\n",
    "dashboard = lc.Dashboard(\n",
    "    rows=3,\n",
    "    columns=3,\n",
    "    theme=lc.Themes.Dark\n",
    ")\n",
    "\n",
    "# Plotting the first nine traces separately\n",
    "unique_traces = df['trace_sequence_number_within_line'].unique()\n",
    "for idx, trace in enumerate(unique_traces[:9]):  # Plot first 9 traces\n",
    "    trace_data = df[df['trace_sequence_number_within_line'] == trace]\n",
    "    chart = dashboard.ChartXY(\n",
    "        column_index=idx % 3,\n",
    "        row_index=idx // 3,\n",
    "        row_span=1,\n",
    "        column_span=1\n",
    "    )\n",
    "    chart.set_title(f'Trace {trace}')\n",
    "    series = chart.add_line_series()\n",
    "    series.add(trace_data['time_ms'].tolist(), trace_data['trace_value'].tolist())\n",
    "    series.set_name(f'Trace {trace}')\n",
    "\n",
    "    # Set axis labels\n",
    "    chart.get_default_x_axis().set_title('Time (ms)')\n",
    "    chart.get_default_y_axis().set_title('Amplitude')\n",
    "\n",
    "# Open the dashboard\n",
    "dashboard.open()"
   ]
  },
  {
   "cell_type": "code",
   "execution_count": 2,
   "metadata": {},
   "outputs": [
    {
     "name": "stderr",
     "output_type": "stream",
     "text": [
      "127.0.0.1 - - [19/Jun/2024 08:22:10] \"GET / HTTP/1.1\" 200 -\n"
     ]
    },
    {
     "data": {
      "text/html": [
       "\n",
       "        <iframe\n",
       "            width=\"100%\"\n",
       "            height=\"600\"\n",
       "            src=\"http://localhost:53615\"\n",
       "            frameborder=\"0\"\n",
       "            allowfullscreen\n",
       "            \n",
       "        ></iframe>\n",
       "        "
      ],
      "text/plain": [
       "<IPython.lib.display.IFrame at 0x18732464e10>"
      ]
     },
     "execution_count": 2,
     "metadata": {},
     "output_type": "execute_result"
    }
   ],
   "source": [
    "import lightningchart as lc\n",
    "import pandas as pd\n",
    "import numpy as np\n",
    "\n",
    "# Read the license key from a file\n",
    "with open('D:/Computer Aplication/WorkPlacement/Projects/shared_variable.txt', 'r') as f:\n",
    "    mylicensekey = f.read().strip()\n",
    "lc.set_license(mylicensekey)\n",
    "\n",
    "# Load the CSV file\n",
    "file_path = 'D:/wenprograming23/src/team6/Marine-Seismic-Data-Time-Series-Analysis-with-LightningChart-Python/Data/output.csv'\n",
    "df = pd.read_csv(file_path)\n",
    "\n",
    "# Convert sample number to time (assuming the sample interval is in microseconds)\n",
    "df['time_ms'] = df['sample_number'] * df['sample_interval_in_ms_for_this_trace'] / 1000.0\n",
    "\n",
    "# Prepare data for line chart\n",
    "unique_traces = df['trace_sequence_number_within_line'].unique()\n",
    "\n",
    "# Create a Line Chart\n",
    "chart = lc.ChartXY(\n",
    "    theme=lc.Themes.Dark,\n",
    "    title='Line Chart of Seismic Data (First 9 Traces)'\n",
    ")\n",
    "\n",
    "# Plotting the first 9 traces\n",
    "for trace in unique_traces[:9]:\n",
    "    trace_data = df[df['trace_sequence_number_within_line'] == trace]\n",
    "    series = chart.add_line_series()\n",
    "    series.add(trace_data['time_ms'].tolist(), trace_data['trace_value'].tolist())\n",
    "    series.set_name(f'Trace {trace}')\n",
    "\n",
    "chart.open()"
   ]
  },
  {
   "cell_type": "code",
   "execution_count": 3,
   "metadata": {},
   "outputs": [
    {
     "name": "stderr",
     "output_type": "stream",
     "text": [
      "127.0.0.1 - - [19/Jun/2024 08:22:10] \"GET / HTTP/1.1\" 200 -\n"
     ]
    },
    {
     "ename": "ValueError",
     "evalue": "autodetected range of [nan, nan] is not finite",
     "output_type": "error",
     "traceback": [
      "\u001b[1;31m---------------------------------------------------------------------------\u001b[0m",
      "\u001b[1;31mValueError\u001b[0m                                Traceback (most recent call last)",
      "Cell \u001b[1;32mIn[3], line 15\u001b[0m\n\u001b[0;32m     12\u001b[0m df \u001b[38;5;241m=\u001b[39m pd\u001b[38;5;241m.\u001b[39mread_csv(file_path)\n\u001b[0;32m     14\u001b[0m \u001b[38;5;66;03m# Calculate histogram data\u001b[39;00m\n\u001b[1;32m---> 15\u001b[0m hist, bin_edges \u001b[38;5;241m=\u001b[39m \u001b[43mnp\u001b[49m\u001b[38;5;241;43m.\u001b[39;49m\u001b[43mhistogram\u001b[49m\u001b[43m(\u001b[49m\u001b[43mdf\u001b[49m\u001b[43m[\u001b[49m\u001b[38;5;124;43m'\u001b[39;49m\u001b[38;5;124;43mtrace_value\u001b[39;49m\u001b[38;5;124;43m'\u001b[39;49m\u001b[43m]\u001b[49m\u001b[43m,\u001b[49m\u001b[43m \u001b[49m\u001b[43mbins\u001b[49m\u001b[38;5;241;43m=\u001b[39;49m\u001b[38;5;241;43m50\u001b[39;49m\u001b[43m)\u001b[49m\n\u001b[0;32m     17\u001b[0m \u001b[38;5;66;03m# Prepare data for the bar chart\u001b[39;00m\n\u001b[0;32m     18\u001b[0m data \u001b[38;5;241m=\u001b[39m [{\u001b[38;5;124m'\u001b[39m\u001b[38;5;124mcategory\u001b[39m\u001b[38;5;124m'\u001b[39m: \u001b[38;5;124mf\u001b[39m\u001b[38;5;124m'\u001b[39m\u001b[38;5;132;01m{\u001b[39;00m(bin_edges[i]\u001b[38;5;250m \u001b[39m\u001b[38;5;241m+\u001b[39m\u001b[38;5;250m \u001b[39mbin_edges[i\u001b[38;5;250m \u001b[39m\u001b[38;5;241m+\u001b[39m\u001b[38;5;250m \u001b[39m\u001b[38;5;241m1\u001b[39m])\u001b[38;5;250m \u001b[39m\u001b[38;5;241m/\u001b[39m\u001b[38;5;250m \u001b[39m\u001b[38;5;241m2\u001b[39m\u001b[38;5;132;01m:\u001b[39;00m\u001b[38;5;124m.2f\u001b[39m\u001b[38;5;132;01m}\u001b[39;00m\u001b[38;5;124m'\u001b[39m, \u001b[38;5;124m'\u001b[39m\u001b[38;5;124mvalue\u001b[39m\u001b[38;5;124m'\u001b[39m: \u001b[38;5;28mint\u001b[39m(hist[i])} \u001b[38;5;28;01mfor\u001b[39;00m i \u001b[38;5;129;01min\u001b[39;00m \u001b[38;5;28mrange\u001b[39m(\u001b[38;5;28mlen\u001b[39m(hist))]\n",
      "File \u001b[1;32mc:\\Users\\Soroush\\AppData\\Local\\Programs\\Python\\Python311\\Lib\\site-packages\\numpy\\lib\\histograms.py:780\u001b[0m, in \u001b[0;36mhistogram\u001b[1;34m(a, bins, range, density, weights)\u001b[0m\n\u001b[0;32m    680\u001b[0m \u001b[38;5;250m\u001b[39m\u001b[38;5;124mr\u001b[39m\u001b[38;5;124;03m\"\"\"\u001b[39;00m\n\u001b[0;32m    681\u001b[0m \u001b[38;5;124;03mCompute the histogram of a dataset.\u001b[39;00m\n\u001b[0;32m    682\u001b[0m \n\u001b[1;32m   (...)\u001b[0m\n\u001b[0;32m    776\u001b[0m \n\u001b[0;32m    777\u001b[0m \u001b[38;5;124;03m\"\"\"\u001b[39;00m\n\u001b[0;32m    778\u001b[0m a, weights \u001b[38;5;241m=\u001b[39m _ravel_and_check_weights(a, weights)\n\u001b[1;32m--> 780\u001b[0m bin_edges, uniform_bins \u001b[38;5;241m=\u001b[39m \u001b[43m_get_bin_edges\u001b[49m\u001b[43m(\u001b[49m\u001b[43ma\u001b[49m\u001b[43m,\u001b[49m\u001b[43m \u001b[49m\u001b[43mbins\u001b[49m\u001b[43m,\u001b[49m\u001b[43m \u001b[49m\u001b[38;5;28;43mrange\u001b[39;49m\u001b[43m,\u001b[49m\u001b[43m \u001b[49m\u001b[43mweights\u001b[49m\u001b[43m)\u001b[49m\n\u001b[0;32m    782\u001b[0m \u001b[38;5;66;03m# Histogram is an integer or a float array depending on the weights.\u001b[39;00m\n\u001b[0;32m    783\u001b[0m \u001b[38;5;28;01mif\u001b[39;00m weights \u001b[38;5;129;01mis\u001b[39;00m \u001b[38;5;28;01mNone\u001b[39;00m:\n",
      "File \u001b[1;32mc:\\Users\\Soroush\\AppData\\Local\\Programs\\Python\\Python311\\Lib\\site-packages\\numpy\\lib\\histograms.py:426\u001b[0m, in \u001b[0;36m_get_bin_edges\u001b[1;34m(a, bins, range, weights)\u001b[0m\n\u001b[0;32m    423\u001b[0m     \u001b[38;5;28;01mif\u001b[39;00m n_equal_bins \u001b[38;5;241m<\u001b[39m \u001b[38;5;241m1\u001b[39m:\n\u001b[0;32m    424\u001b[0m         \u001b[38;5;28;01mraise\u001b[39;00m \u001b[38;5;167;01mValueError\u001b[39;00m(\u001b[38;5;124m'\u001b[39m\u001b[38;5;124m`bins` must be positive, when an integer\u001b[39m\u001b[38;5;124m'\u001b[39m)\n\u001b[1;32m--> 426\u001b[0m     first_edge, last_edge \u001b[38;5;241m=\u001b[39m \u001b[43m_get_outer_edges\u001b[49m\u001b[43m(\u001b[49m\u001b[43ma\u001b[49m\u001b[43m,\u001b[49m\u001b[43m \u001b[49m\u001b[38;5;28;43mrange\u001b[39;49m\u001b[43m)\u001b[49m\n\u001b[0;32m    428\u001b[0m \u001b[38;5;28;01melif\u001b[39;00m np\u001b[38;5;241m.\u001b[39mndim(bins) \u001b[38;5;241m==\u001b[39m \u001b[38;5;241m1\u001b[39m:\n\u001b[0;32m    429\u001b[0m     bin_edges \u001b[38;5;241m=\u001b[39m np\u001b[38;5;241m.\u001b[39masarray(bins)\n",
      "File \u001b[1;32mc:\\Users\\Soroush\\AppData\\Local\\Programs\\Python\\Python311\\Lib\\site-packages\\numpy\\lib\\histograms.py:323\u001b[0m, in \u001b[0;36m_get_outer_edges\u001b[1;34m(a, range)\u001b[0m\n\u001b[0;32m    321\u001b[0m     first_edge, last_edge \u001b[38;5;241m=\u001b[39m a\u001b[38;5;241m.\u001b[39mmin(), a\u001b[38;5;241m.\u001b[39mmax()\n\u001b[0;32m    322\u001b[0m     \u001b[38;5;28;01mif\u001b[39;00m \u001b[38;5;129;01mnot\u001b[39;00m (np\u001b[38;5;241m.\u001b[39misfinite(first_edge) \u001b[38;5;129;01mand\u001b[39;00m np\u001b[38;5;241m.\u001b[39misfinite(last_edge)):\n\u001b[1;32m--> 323\u001b[0m         \u001b[38;5;28;01mraise\u001b[39;00m \u001b[38;5;167;01mValueError\u001b[39;00m(\n\u001b[0;32m    324\u001b[0m             \u001b[38;5;124m\"\u001b[39m\u001b[38;5;124mautodetected range of [\u001b[39m\u001b[38;5;132;01m{}\u001b[39;00m\u001b[38;5;124m, \u001b[39m\u001b[38;5;132;01m{}\u001b[39;00m\u001b[38;5;124m] is not finite\u001b[39m\u001b[38;5;124m\"\u001b[39m\u001b[38;5;241m.\u001b[39mformat(first_edge, last_edge))\n\u001b[0;32m    326\u001b[0m \u001b[38;5;66;03m# expand empty range to avoid divide by zero\u001b[39;00m\n\u001b[0;32m    327\u001b[0m \u001b[38;5;28;01mif\u001b[39;00m first_edge \u001b[38;5;241m==\u001b[39m last_edge:\n",
      "\u001b[1;31mValueError\u001b[0m: autodetected range of [nan, nan] is not finite"
     ]
    }
   ],
   "source": [
    "import lightningchart as lc\n",
    "import pandas as pd\n",
    "import numpy as np\n",
    "\n",
    "# Read the license key from a file\n",
    "with open('D:/Computer Aplication/WorkPlacement/Projects/shared_variable.txt', 'r') as f:\n",
    "    mylicensekey = f.read().strip()\n",
    "lc.set_license(mylicensekey)\n",
    "\n",
    "# Load the CSV file\n",
    "file_path = 'D:/wenprograming23/src/team6/Marine-Seismic-Data-Time-Series-Analysis-with-LightningChart-Python/Data/output.csv'\n",
    "df = pd.read_csv(file_path)\n",
    "\n",
    "# Calculate histogram data\n",
    "hist, bin_edges = np.histogram(df['trace_value'], bins=50)\n",
    "\n",
    "# Prepare data for the bar chart\n",
    "data = [{'category': f'{(bin_edges[i] + bin_edges[i + 1]) / 2:.2f}', 'value': int(hist[i])} for i in range(len(hist))]\n",
    "\n",
    "# Create a Bar Chart\n",
    "chart = lc.BarChart(\n",
    "    vertical=True,\n",
    "    theme=lc.Themes.Dark,\n",
    "    title='Distribution of amplitude values'\n",
    ")\n",
    "\n",
    "# Set the data for the bar chart\n",
    "chart.set_data(data)\n",
    "\n",
    "# Show the chart\n",
    "chart.open()\n",
    "\n",
    "# Add axis titles using text boxes\n",
    "x_axis_title = chart.add_textbox(text='Amplitude', x=50, y=95)\n",
    "y_axis_title = chart.add_textbox(text='Frequency', x=5, y=50)\n"
   ]
  },
  {
   "cell_type": "markdown",
   "metadata": {},
   "source": [
    "In the provided histogram, the x-values and y-values represent the following:\n",
    "\n",
    "X-values (Amplitude): These values represent the midpoints of the bins of the histogram. Each bin covers a range of trace values (amplitudes) from the seismic data, and the x-value is the midpoint of that range. For example, an x-value of -0.02 indicates the midpoint of a bin that includes trace values around -0.02.\n",
    "\n",
    "Y-values (Frequency): These values represent the number of occurrences (frequency) of trace values that fall within each bin's range. The height of each bar in the histogram corresponds to how many trace values are within that specific range. For instance, the first bin has a y-value of 30,731,895, indicating that there are 30,731,895 trace values within the range around the midpoint -0.02."
   ]
  },
  {
   "cell_type": "code",
   "execution_count": null,
   "metadata": {},
   "outputs": [
    {
     "data": {
      "text/html": [
       "\n",
       "        <iframe\n",
       "            width=\"100%\"\n",
       "            height=\"600\"\n",
       "            src=\"http://localhost:53095\"\n",
       "            frameborder=\"0\"\n",
       "            allowfullscreen\n",
       "            \n",
       "        ></iframe>\n",
       "        "
      ],
      "text/plain": [
       "<IPython.lib.display.IFrame at 0x196881f0650>"
      ]
     },
     "execution_count": 37,
     "metadata": {},
     "output_type": "execute_result"
    },
    {
     "name": "stderr",
     "output_type": "stream",
     "text": [
      "127.0.0.1 - - [17/Jun/2024 21:15:51] \"GET / HTTP/1.1\" 200 -\n"
     ]
    }
   ],
   "source": [
    "import lightningchart as lc\n",
    "import pandas as pd\n",
    "\n",
    "# Read the license key from a file\n",
    "with open('D:/Computer Aplication/WorkPlacement/Projects/shared_variable.txt', 'r') as f:\n",
    "    mylicensekey = f.read().strip()\n",
    "lc.set_license(mylicensekey)\n",
    "\n",
    "# Load the CSV file\n",
    "file_path = 'D:/wenprograming23/src/team6/Marine-Seismic-Data-Time-Series-Analysis-with-LightningChart-Python/Data/output.csv'\n",
    "df = pd.read_csv(file_path)\n",
    "\n",
    "# Convert sample number to time (assuming the sample interval is in microseconds)\n",
    "df['time_ms'] = df['sample_number'] * df['sample_interval_in_ms_for_this_trace'] / 1000.0\n",
    "\n",
    "# Create a Scatter Plot\n",
    "chart = lc.ChartXY(\n",
    "    theme=lc.Themes.Dark,\n",
    "    title='Scatter Plot of Amplitude vs. Time'\n",
    ")\n",
    "\n",
    "# Add a Point Series for the scatter plot\n",
    "point_series = chart.add_point_series()\n",
    "\n",
    "# Set data for the point series\n",
    "point_series.add(df['time_ms'].values.tolist(), df['trace_value'].values.tolist())\n",
    "\n",
    "# Customize axis titles\n",
    "chart.get_default_x_axis().set_title('Time (ms)')\n",
    "chart.get_default_y_axis().set_title('Amplitude')\n",
    "\n",
    "# Show the chart\n",
    "chart.open()\n"
   ]
  }
 ],
 "metadata": {
  "kernelspec": {
   "display_name": "Python 3",
   "language": "python",
   "name": "python3"
  },
  "language_info": {
   "codemirror_mode": {
    "name": "ipython",
    "version": 3
   },
   "file_extension": ".py",
   "mimetype": "text/x-python",
   "name": "python",
   "nbconvert_exporter": "python",
   "pygments_lexer": "ipython3",
   "version": "3.11.4"
  }
 },
 "nbformat": 4,
 "nbformat_minor": 2
}
